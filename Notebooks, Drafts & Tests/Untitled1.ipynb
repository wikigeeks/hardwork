{
 "cells": [
  {
   "cell_type": "code",
   "execution_count": 2,
   "metadata": {},
   "outputs": [
    {
     "data": {
      "text/plain": [
       "True"
      ]
     },
     "execution_count": 2,
     "metadata": {},
     "output_type": "execute_result"
    }
   ],
   "source": [
    "import webbrowser\n",
    "webbrowser.open('https://www.wolframalpha.com/input/?i=Pterocles+burchelli')"
   ]
  },
  {
   "cell_type": "code",
   "execution_count": 14,
   "metadata": {},
   "outputs": [],
   "source": [
    "alpha=\"абвгдеёжзийклмнопрстуфхцчшщъыьэюя\"\n",
    "with open(\"fetch0.txt\",encoding=\"utf-8\") as f:\n",
    "    d=f.read()\n",
    "x=[i.split('\\t') for i in d.split('\\n')]"
   ]
  },
  {
   "cell_type": "code",
   "execution_count": 18,
   "metadata": {},
   "outputs": [],
   "source": [
    "with open(\"available.txt\",\"w\",encoding=\"utf-8\") as f:\n",
    "    for i in x:\n",
    "        s=i[1]+'\\n'\n",
    "        notone=False\n",
    "        for a in alpha:\n",
    "            if a in s.lower():\n",
    "                notone=True\n",
    "                break\n",
    "        if notone:\n",
    "            continue\n",
    "        f.write(s)\n",
    "    "
   ]
  }
 ],
 "metadata": {
  "kernelspec": {
   "display_name": "Python 3",
   "language": "python",
   "name": "python3"
  },
  "language_info": {
   "codemirror_mode": {
    "name": "ipython",
    "version": 3
   },
   "file_extension": ".py",
   "mimetype": "text/x-python",
   "name": "python",
   "nbconvert_exporter": "python",
   "pygments_lexer": "ipython3",
   "version": "3.7.3"
  }
 },
 "nbformat": 4,
 "nbformat_minor": 2
}
